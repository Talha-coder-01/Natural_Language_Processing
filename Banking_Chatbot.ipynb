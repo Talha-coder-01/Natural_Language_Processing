{
  "nbformat": 4,
  "nbformat_minor": 0,
  "metadata": {
    "colab": {
      "provenance": [],
      "authorship_tag": "ABX9TyPyIQ5UY0Bviu2LyQJiGdnN",
      "include_colab_link": true
    },
    "kernelspec": {
      "name": "python3",
      "display_name": "Python 3"
    },
    "language_info": {
      "name": "python"
    }
  },
  "cells": [
    {
      "cell_type": "markdown",
      "metadata": {
        "id": "view-in-github",
        "colab_type": "text"
      },
      "source": [
        "<a href=\"https://colab.research.google.com/github/Talha-coder-01/Natural_Language_Processing/blob/main/Banking_Chatbot.ipynb\" target=\"_parent\"><img src=\"https://colab.research.google.com/assets/colab-badge.svg\" alt=\"Open In Colab\"/></a>"
      ]
    },
    {
      "cell_type": "code",
      "execution_count": 5,
      "metadata": {
        "colab": {
          "base_uri": "https://localhost:8080/"
        },
        "id": "adDfPy4ku7xa",
        "outputId": "989667c6-6df2-43eb-e6f1-566168f7dab1"
      },
      "outputs": [
        {
          "output_type": "stream",
          "name": "stdout",
          "text": [
            "Banking Chatbot: Hello! How can I assist you today?\n",
            "You: I want to check my balance\n",
            "Banking Chatbot: To check your balance, please provide your account number.\n",
            "You: 4652125\n",
            "Banking Chatbot: I'm sorry, I didn't understand that. Could you please rephrase your question?\n",
            "You: i want my balance\n",
            "Banking Chatbot: To check your balance, please provide your account number.\n",
            "You: 456123784562121\n",
            "Banking Chatbot: I'm sorry, I didn't understand that. Could you please rephrase your question?\n",
            "You: i want to check balance\n",
            "Banking Chatbot: To check your balance, please provide your account number.\n",
            "You: 4567894512\n",
            "Banking Chatbot: I'm sorry, I didn't understand that. Could you please rephrase your question?\n",
            "You: i want to transfer money\n",
            "Banking Chatbot: To make a transfer, please provide the recipient's account number and the amount.\n",
            "You: 4562178\n",
            "Banking Chatbot: I'm sorry, I didn't understand that. Could you please rephrase your question?\n",
            "You: i want to take loan\n",
            "Banking Chatbot: For loan inquiries, please specify the type of loan you're interested in (e.g., personal, home, auto).\n",
            "You: personal\n",
            "Banking Chatbot: I'm sorry, I didn't understand that. Could you please rephrase your question?\n",
            "You: exit\n",
            "Banking Chatbot: Thank you for using our service. Goodbye!\n"
          ]
        }
      ],
      "source": [
        "import re\n",
        "from typing import Dict, List, Tuple\n",
        "\n",
        "class BankingChatbot:\n",
        "    def __init__(self):\n",
        "        self.intents: Dict[str, List[str]] = {\n",
        "            \"greeting\": [\"hello\", \"hi\", \"hey\", \"greetings\"],\n",
        "            \"farewell\": [\"bye\", \"goodbye\", \"see you\", \"take care\"],\n",
        "            \"balance\": [\"balance\", \"account balance\", \"how much money\"],\n",
        "            \"transfer\": [\"transfer\", \"send money\", \"payment\"],\n",
        "            \"loan\": [\"loan\", \"borrow\", \"credit\"],\n",
        "        }\n",
        "\n",
        "        self.responses: Dict[str, str] = {\n",
        "            \"greeting\": \"Hello! How can I assist you with your banking needs today?\",\n",
        "            \"farewell\": \"Thank you for using our banking services. Have a great day!\",\n",
        "            \"balance\": \"To check your balance, please provide your account number.\",\n",
        "            \"transfer\": \"To make a transfer, please provide the recipient's account number and the amount.\",\n",
        "            \"loan\": \"For loan inquiries, please specify the type of loan you're interested in (e.g., personal, home, auto).\",\n",
        "            \"default\": \"I'm sorry, I didn't understand that. Could you please rephrase your question?\"\n",
        "        }\n",
        "\n",
        "    def preprocess(self, text: str) -> str:\n",
        "        return text.lower().strip()\n",
        "\n",
        "    def recognize_intent(self, text: str) -> str:\n",
        "        for intent, patterns in self.intents.items():\n",
        "            for pattern in patterns:\n",
        "                if pattern in text:\n",
        "                    return intent\n",
        "        return \"default\"\n",
        "\n",
        "    def extract_entities(self, text: str) -> Dict[str, str]:\n",
        "        entities = {}\n",
        "\n",
        "        # Extract account number\n",
        "        account_match = re.search(r'\\b\\d{10}\\b', text)\n",
        "        if account_match:\n",
        "            entities['account_number'] = account_match.group()\n",
        "\n",
        "        # Extract amount\n",
        "        amount_match = re.search(r'\\$?\\d+(?:\\.\\d{2})?', text)\n",
        "        if amount_match:\n",
        "            entities['amount'] = amount_match.group()\n",
        "\n",
        "        # Extract loan type\n",
        "        loan_types = ['personal', 'home', 'auto']\n",
        "        for loan_type in loan_types:\n",
        "            if loan_type in text:\n",
        "                entities['loan_type'] = loan_type\n",
        "                break\n",
        "\n",
        "        return entities\n",
        "\n",
        "    def generate_response(self, intent: str, entities: Dict[str, str]) -> str:\n",
        "        response = self.responses.get(intent, self.responses[\"default\"])\n",
        "\n",
        "        if intent == \"balance\" and \"account_number\" in entities:\n",
        "            response += f\" I'll check the balance for account {entities['account_number']}.\"\n",
        "        elif intent == \"transfer\" and \"account_number\" in entities and \"amount\" in entities:\n",
        "            response += f\" I'll initiate a transfer of {entities['amount']} to account {entities['account_number']}.\"\n",
        "        elif intent == \"loan\" and \"loan_type\" in entities:\n",
        "            response += f\" I can provide information about our {entities['loan_type']} loans.\"\n",
        "\n",
        "        return response\n",
        "\n",
        "    def process_input(self, user_input: str) -> str:\n",
        "        preprocessed_input = self.preprocess(user_input)\n",
        "        intent = self.recognize_intent(preprocessed_input)\n",
        "        entities = self.extract_entities(preprocessed_input)\n",
        "        return self.generate_response(intent, entities)\n",
        "\n",
        "# Function to run the chatbot\n",
        "def run_chatbot():\n",
        "    chatbot = BankingChatbot()\n",
        "    print(\"Banking Chatbot: Hello! How can I assist you today?\")\n",
        "\n",
        "    while True:\n",
        "        user_input = input(\"You: \")\n",
        "        if user_input.lower() in ['quit', 'exit', 'bye']:\n",
        "            print(\"Banking Chatbot: Thank you for using our service. Goodbye!\")\n",
        "            break\n",
        "\n",
        "        response = chatbot.process_input(user_input)\n",
        "        print(f\"Banking Chatbot: {response}\")\n",
        "\n",
        "# Run this cell to start the chatbot\n",
        "run_chatbot()"
      ]
    }
  ]
}