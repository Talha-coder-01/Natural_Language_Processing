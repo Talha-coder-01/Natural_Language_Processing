{
  "nbformat": 4,
  "nbformat_minor": 0,
  "metadata": {
    "colab": {
      "provenance": [],
      "authorship_tag": "ABX9TyMbvOM9R0WnAezNBzxBY0Qp",
      "include_colab_link": true
    },
    "kernelspec": {
      "name": "python3",
      "display_name": "Python 3"
    },
    "language_info": {
      "name": "python"
    }
  },
  "cells": [
    {
      "cell_type": "markdown",
      "metadata": {
        "id": "view-in-github",
        "colab_type": "text"
      },
      "source": [
        "<a href=\"https://colab.research.google.com/github/Talha-coder-01/Natural_Language_Processing/blob/main/Sentiment_Analysis.ipynb\" target=\"_parent\"><img src=\"https://colab.research.google.com/assets/colab-badge.svg\" alt=\"Open In Colab\"/></a>"
      ]
    },
    {
      "cell_type": "code",
      "execution_count": 2,
      "metadata": {
        "id": "muDiid_j1bEN"
      },
      "outputs": [],
      "source": [
        "import re\n",
        "from textblob import TextBlob\n",
        "import matplotlib.pyplot as plt"
      ]
    },
    {
      "cell_type": "code",
      "source": [
        "def clean_tweet(tweet):\n",
        "    \"\"\"\n",
        "    Clean the tweet text by removing links, special characters\n",
        "    using simple regex statements.\n",
        "    \"\"\"\n",
        "    return ' '.join(re.sub(\"(@[A-Za-z0-9]+)|([^0-9A-Za-z \\t])|(\\w+:\\/\\/\\S+)\", \" \", tweet).split())\n"
      ],
      "metadata": {
        "id": "Ksb3CbP71d0D"
      },
      "execution_count": 3,
      "outputs": []
    },
    {
      "cell_type": "code",
      "source": [
        "def get_tweet_sentiment(tweet):\n",
        "    \"\"\"\n",
        "    Utility function to classify sentiment of passed tweet\n",
        "    using textblob's sentiment method\n",
        "    \"\"\"\n",
        "    # create TextBlob object of passed tweet text\n",
        "    analysis = TextBlob(clean_tweet(tweet))\n",
        "    # set sentiment\n",
        "    if analysis.sentiment.polarity > 0:\n",
        "        return 'positive'\n",
        "    elif analysis.sentiment.polarity == 0:\n",
        "        return 'neutral'\n",
        "    else:\n",
        "        return 'negative'\n"
      ],
      "metadata": {
        "id": "wNslRlFg1zYh"
      },
      "execution_count": 4,
      "outputs": []
    },
    {
      "cell_type": "code",
      "source": [
        "def analyze_tweets(tweets):\n",
        "    \"\"\"\n",
        "    Main function to fetch tweets and parse them.\n",
        "    \"\"\"\n",
        "    # empty list to store parsed tweets\n",
        "    parsed_tweets = []\n",
        "\n",
        "    for tweet in tweets:\n",
        "        # empty dictionary to store required params of a tweet\n",
        "        parsed_tweet = {}\n",
        "        # saving text of tweet\n",
        "        parsed_tweet['text'] = tweet\n",
        "        # saving sentiment of tweet\n",
        "        parsed_tweet['sentiment'] = get_tweet_sentiment(tweet)\n",
        "        # appending parsed tweet to tweets list\n",
        "        if tweet:\n",
        "            parsed_tweets.append(parsed_tweet)\n",
        "\n",
        "    return parsed_tweets\n"
      ],
      "metadata": {
        "id": "WnOw3h99112x"
      },
      "execution_count": 5,
      "outputs": []
    },
    {
      "cell_type": "code",
      "source": [
        "def plot_sentiment_distribution(tweets):\n",
        "    \"\"\"\n",
        "    Function to plot the distribution of sentiments\n",
        "    \"\"\"\n",
        "    # Count the sentiment occurrences\n",
        "    sentiment_counts = {'positive': 0, 'neutral': 0, 'negative': 0}\n",
        "    for tweet in tweets:\n",
        "        sentiment_counts[tweet['sentiment']] += 1\n",
        "\n",
        "    # Create a bar plot\n",
        "    plt.figure(figsize=(10, 5))\n",
        "    plt.bar(sentiment_counts.keys(), sentiment_counts.values())\n",
        "    plt.title('Sentiment Distribution of Tweets')\n",
        "    plt.xlabel('Sentiment')\n",
        "    plt.ylabel('Number of Tweets')\n",
        "    plt.show()\n",
        "\n",
        "# Sample tweets (in a real scenario, you'd fetch these from Twitter API)\n",
        "sample_tweets = [\n",
        "    \"I love using Python for data analysis!\",\n",
        "    \"This new phone is terrible, worst purchase ever.\",\n",
        "    \"The weather is okay today, not great but not bad either.\",\n",
        "    \"I can't believe how amazing this movie is!\",\n",
        "    \"Why is the traffic always so bad in this city?\",\n",
        "    \"Just had the best cup of coffee, great start to the day!\",\n",
        "    \"This book is neither interesting nor boring, it's just meh.\",\n",
        "    \"I hate waiting in long lines, it's so frustrating.\",\n",
        "    \"The concert last night was absolutely incredible!\",\n",
        "    \"I'm feeling quite neutral about the new restaurant in town.\"\n",
        "]\n",
        "\n",
        "# Analyze the tweets\n",
        "analyzed_tweets = analyze_tweets(sample_tweets)\n",
        "\n",
        "# Print each tweet and its sentiment\n",
        "for tweet in analyzed_tweets:\n",
        "    print(f\"Tweet: {tweet['text']}\")\n",
        "    print(f\"Sentiment: {tweet['sentiment']}\")\n",
        "    print()\n",
        "\n",
        "# Plot the sentiment distribution\n",
        "plot_sentiment_distribution(analyzed_tweets)"
      ],
      "metadata": {
        "colab": {
          "base_uri": "https://localhost:8080/",
          "height": 1000
        },
        "id": "eGrizcpG14Ay",
        "outputId": "5d77686d-aa9f-451f-ecd7-b1afebdbf9d1"
      },
      "execution_count": 6,
      "outputs": [
        {
          "output_type": "stream",
          "name": "stdout",
          "text": [
            "Tweet: I love using Python for data analysis!\n",
            "Sentiment: positive\n",
            "\n",
            "Tweet: This new phone is terrible, worst purchase ever.\n",
            "Sentiment: negative\n",
            "\n",
            "Tweet: The weather is okay today, not great but not bad either.\n",
            "Sentiment: positive\n",
            "\n",
            "Tweet: I can't believe how amazing this movie is!\n",
            "Sentiment: positive\n",
            "\n",
            "Tweet: Why is the traffic always so bad in this city?\n",
            "Sentiment: negative\n",
            "\n",
            "Tweet: Just had the best cup of coffee, great start to the day!\n",
            "Sentiment: positive\n",
            "\n",
            "Tweet: This book is neither interesting nor boring, it's just meh.\n",
            "Sentiment: negative\n",
            "\n",
            "Tweet: I hate waiting in long lines, it's so frustrating.\n",
            "Sentiment: negative\n",
            "\n",
            "Tweet: The concert last night was absolutely incredible!\n",
            "Sentiment: positive\n",
            "\n",
            "Tweet: I'm feeling quite neutral about the new restaurant in town.\n",
            "Sentiment: positive\n",
            "\n"
          ]
        },
        {
          "output_type": "display_data",
          "data": {
            "text/plain": [
              "<Figure size 1000x500 with 1 Axes>"
            ],
            "image/png": "[encoded data removed]"
          },
          "metadata": {}
        }
      ]
    },
    {
      "cell_type": "code",
      "source": [],
      "metadata": {
        "id": "UpB6x9Z42HeX"
      },
      "execution_count": null,
      "outputs": []
    }
  ]
}