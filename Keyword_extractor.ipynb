{
  "nbformat": 4,
  "nbformat_minor": 0,
  "metadata": {
    "colab": {
      "provenance": [],
      "authorship_tag": "ABX9TyPGVHsnHviXuiVgTvt8hqiZ",
      "include_colab_link": true
    },
    "kernelspec": {
      "name": "python3",
      "display_name": "Python 3"
    },
    "language_info": {
      "name": "python"
    }
  },
  "cells": [
    {
      "cell_type": "markdown",
      "metadata": {
        "id": "view-in-github",
        "colab_type": "text"
      },
      "source": [
        "<a href=\"https://colab.research.google.com/github/Talha-coder-01/Natural_Language_Processing/blob/main/Keyword_extractor.ipynb\" target=\"_parent\"><img src=\"https://colab.research.google.com/assets/colab-badge.svg\" alt=\"Open In Colab\"/></a>"
      ]
    },
    {
      "cell_type": "code",
      "execution_count": 2,
      "metadata": {
        "id": "A445hlElyro4"
      },
      "outputs": [],
      "source": [
        "import nltk\n",
        "from newspaper import Article\n",
        "from nltk.corpus import stopwords\n",
        "from nltk.tokenize import word_tokenize\n",
        "from collections import Counter\n",
        "import string"
      ]
    },
    {
      "cell_type": "code",
      "source": [
        "# Download necessary NLTK data\n",
        "nltk.download('punkt')\n",
        "nltk.download('stopwords')"
      ],
      "metadata": {
        "colab": {
          "base_uri": "https://localhost:8080/"
        },
        "id": "9gi6TDXzys3w",
        "outputId": "3fb5af71-c3bd-43de-e562-5a80519d51ef"
      },
      "execution_count": 4,
      "outputs": [
        {
          "output_type": "stream",
          "name": "stderr",
          "text": [
            "[nltk_data] Downloading package punkt to /root/nltk_data...\n",
            "[nltk_data]   Unzipping tokenizers/punkt.zip.\n",
            "[nltk_data] Downloading package stopwords to /root/nltk_data...\n",
            "[nltk_data]   Unzipping corpora/stopwords.zip.\n"
          ]
        },
        {
          "output_type": "execute_result",
          "data": {
            "text/plain": [
              "True"
            ]
          },
          "metadata": {},
          "execution_count": 4
        }
      ]
    },
    {
      "cell_type": "code",
      "source": [
        "def extract_keywords(url, num_keywords=5):\n",
        "    # Download and parse the article\n",
        "    article = Article(url)\n",
        "    article.download()\n",
        "    article.parse()\n",
        "\n",
        "    # Tokenize the text\n",
        "    tokens = word_tokenize(article.text.lower())\n",
        "\n",
        "    # Remove stopwords and punctuation\n",
        "    stop_words = set(stopwords.words('english'))\n",
        "    tokens = [token for token in tokens if token not in stop_words and token not in string.punctuation]\n",
        "\n",
        "    # Count word frequencies\n",
        "    word_freq = Counter(tokens)\n",
        "\n",
        "    # Get the most common words\n",
        "    keywords = word_freq.most_common(num_keywords)\n",
        "\n",
        "    return keywords"
      ],
      "metadata": {
        "id": "rlHDMBFMy-DE"
      },
      "execution_count": 5,
      "outputs": []
    },
    {
      "cell_type": "code",
      "source": [
        "# Example usage\n",
        "url = \"https://www.bbc.com/news/world-us-canada-52241221\"  # Replace with any news article URL\n",
        "keywords = extract_keywords(url)"
      ],
      "metadata": {
        "id": "LZ0YNGUizGzF"
      },
      "execution_count": 6,
      "outputs": []
    },
    {
      "cell_type": "code",
      "source": [
        "print(f\"Top keywords from the article:\")\n",
        "for word, freq in keywords:\n",
        "    print(f\"{word}: {freq}\")"
      ],
      "metadata": {
        "colab": {
          "base_uri": "https://localhost:8080/"
        },
        "id": "b3DChcHDzKkU",
        "outputId": "fb556d2b-6b57-46d6-aca3-e938289f914f"
      },
      "execution_count": 7,
      "outputs": [
        {
          "output_type": "stream",
          "name": "stdout",
          "text": [
            "Top keywords from the article:\n",
            "new: 13\n",
            "coronavirus: 10\n",
            "york: 10\n",
            "city: 9\n",
            "'s: 9\n"
          ]
        }
      ]
    },
    {
      "cell_type": "code",
      "source": [
        "# You can also print the article title and summary\n",
        "article = Article(url)\n",
        "article.download()\n",
        "article.parse()\n",
        "print(f\"\\nArticle Title: {article.title}\")\n",
        "print(f\"Article Summary: {article.summary}\")"
      ],
      "metadata": {
        "colab": {
          "base_uri": "https://localhost:8080/"
        },
        "id": "2HRaDsKwzNBa",
        "outputId": "1c247c87-0cbf-471b-bd87-669b4421054e"
      },
      "execution_count": 8,
      "outputs": [
        {
          "output_type": "stream",
          "name": "stdout",
          "text": [
            "\n",
            "Article Title: Coronavirus: New York ramps up mass burials amid outbreak\n",
            "Article Summary: \n"
          ]
        }
      ]
    },
    {
      "cell_type": "code",
      "source": [],
      "metadata": {
        "id": "ouJvo6_2zQXv"
      },
      "execution_count": null,
      "outputs": []
    }
  ]
}